{
 "cells": [
  {
   "cell_type": "code",
   "execution_count": 1,
   "id": "initial_id",
   "metadata": {
    "collapsed": true,
    "ExecuteTime": {
     "end_time": "2024-03-27T08:26:13.072567400Z",
     "start_time": "2024-03-27T08:26:10.247243600Z"
    }
   },
   "outputs": [
    {
     "name": "stderr",
     "output_type": "stream",
     "text": [
      "F:\\anaconda\\envs\\kimevn\\lib\\site-packages\\tensorflow\\python\\framework\\dtypes.py:526: FutureWarning: Passing (type, 1) or '1type' as a synonym of type is deprecated; in a future version of numpy, it will be understood as (type, (1,)) / '(1,)type'.\n",
      "  _np_qint8 = np.dtype([(\"qint8\", np.int8, 1)])\n",
      "F:\\anaconda\\envs\\kimevn\\lib\\site-packages\\tensorflow\\python\\framework\\dtypes.py:527: FutureWarning: Passing (type, 1) or '1type' as a synonym of type is deprecated; in a future version of numpy, it will be understood as (type, (1,)) / '(1,)type'.\n",
      "  _np_quint8 = np.dtype([(\"quint8\", np.uint8, 1)])\n",
      "F:\\anaconda\\envs\\kimevn\\lib\\site-packages\\tensorflow\\python\\framework\\dtypes.py:528: FutureWarning: Passing (type, 1) or '1type' as a synonym of type is deprecated; in a future version of numpy, it will be understood as (type, (1,)) / '(1,)type'.\n",
      "  _np_qint16 = np.dtype([(\"qint16\", np.int16, 1)])\n",
      "F:\\anaconda\\envs\\kimevn\\lib\\site-packages\\tensorflow\\python\\framework\\dtypes.py:529: FutureWarning: Passing (type, 1) or '1type' as a synonym of type is deprecated; in a future version of numpy, it will be understood as (type, (1,)) / '(1,)type'.\n",
      "  _np_quint16 = np.dtype([(\"quint16\", np.uint16, 1)])\n",
      "F:\\anaconda\\envs\\kimevn\\lib\\site-packages\\tensorflow\\python\\framework\\dtypes.py:530: FutureWarning: Passing (type, 1) or '1type' as a synonym of type is deprecated; in a future version of numpy, it will be understood as (type, (1,)) / '(1,)type'.\n",
      "  _np_qint32 = np.dtype([(\"qint32\", np.int32, 1)])\n",
      "F:\\anaconda\\envs\\kimevn\\lib\\site-packages\\tensorflow\\python\\framework\\dtypes.py:535: FutureWarning: Passing (type, 1) or '1type' as a synonym of type is deprecated; in a future version of numpy, it will be understood as (type, (1,)) / '(1,)type'.\n",
      "  np_resource = np.dtype([(\"resource\", np.ubyte, 1)])\n",
      "Using TensorFlow backend.\n"
     ]
    }
   ],
   "source": [
    "import os\n",
    "os.environ[\"CUDA_VISIBLE_DEVICES\"] = \"0\"\n",
    "#os.environ[\"CUDA_VISIBLE_DEVICES\"] = \"-1\"\n",
    "\n",
    "\n",
    "import tensorflow as tf\n",
    "import keras.backend.tensorflow_backend as KTF\n",
    "from tensorflow import keras\n",
    "from keras.utils.np_utils import *\n",
    "from keras.preprocessing.text import Tokenizer, text_to_word_sequence\n",
    "# from keras.preprocessing.sequence import pad_sequences\n",
    "from keras.utils.np_utils import to_categorical\n",
    "\n",
    "from keras.layers import Embedding, concatenate\n",
    "from keras.layers import Dense, Input, Flatten, average,Lambda\n",
    "\n",
    "from keras.layers import *\n",
    "from keras.models import Model, load_model\n",
    "from keras.callbacks import EarlyStopping, ModelCheckpoint\n",
    "\n",
    "from keras import backend as K\n",
    "# from keras.engine.topology import Layer, InputSpec\n",
    "from keras import initializers #keras2\n",
    "from keras.utils import plot_model\n",
    "from keras.optimizers import *\n",
    "import numpy as np\n",
    "from sklearn.metrics import accuracy_score, classification_report"
   ]
  },
  {
   "cell_type": "code",
   "execution_count": 2,
   "outputs": [],
   "source": [
    "config = tf.ConfigProto()\n",
    "config.gpu_options.allow_growth= True\n",
    "gpu_options = tf.GPUOptions(allow_growth=True)\n",
    "session = tf.Session(config=tf.ConfigProto(gpu_options=gpu_options))# sess = tf.InteractiveSession(config=tf.ConfigProto(gpu_options=gpu_options))"
   ],
   "metadata": {
    "collapsed": false,
    "ExecuteTime": {
     "end_time": "2024-03-27T08:26:13.093570300Z",
     "start_time": "2024-03-27T08:26:13.074566800Z"
    }
   },
   "id": "8ab7b815851431b4"
  },
  {
   "cell_type": "code",
   "execution_count": 3,
   "outputs": [],
   "source": [
    "np.random.seed(3407)  \n",
    "tf.set_random_seed(3407)\n",
    "\n",
    "KTF.set_session(session)"
   ],
   "metadata": {
    "collapsed": false,
    "ExecuteTime": {
     "end_time": "2024-03-27T08:26:13.193638400Z",
     "start_time": "2024-03-27T08:26:13.097569100Z"
    }
   },
   "id": "a4789e59f26f9fc0"
  },
  {
   "cell_type": "code",
   "execution_count": 4,
   "outputs": [],
   "source": [
    "from Hypers import *\n",
    "from Utils import *\n",
    "from Preprocessing import *\n",
    "from Generator import *\n",
    "from Models import *"
   ],
   "metadata": {
    "collapsed": false,
    "ExecuteTime": {
     "end_time": "2024-03-27T08:26:13.454035Z",
     "start_time": "2024-03-27T08:26:13.104567700Z"
    }
   },
   "id": "b06a0ac9454e23ce"
  },
  {
   "cell_type": "code",
   "execution_count": 5,
   "outputs": [],
   "source": [
    "data_root_path = 'MINDsmall\\\\'\n",
    "embedding_path = 'glove.840B.300d\\\\'\n",
    "KG_root_path = 'KGData\\\\'"
   ],
   "metadata": {
    "collapsed": false,
    "ExecuteTime": {
     "end_time": "2024-03-27T08:26:13.467030800Z",
     "start_time": "2024-03-27T08:26:13.459031500Z"
    }
   },
   "id": "d0139dddd762ee1d"
  },
  {
   "cell_type": "code",
   "execution_count": 6,
   "outputs": [
    {
     "name": "stdout",
     "output_type": "stream",
     "text": [
      "preprocessing-read_news\n",
      "path: MINDsmall\\train\\news.tsv\n",
      "path: MINDsmall\\dev\\news.tsv\n"
     ]
    }
   ],
   "source": [
    "news,news_index,category_dict,subcategory_dict,word_dict,content_dict,entity_dict = read_news(data_root_path)\n",
    "news_title,news_vert,news_subvert,news_entity,news_content=get_doc_input(news,news_index,category_dict,subcategory_dict,word_dict,content_dict,entity_dict)\n"
   ],
   "metadata": {
    "collapsed": false,
    "ExecuteTime": {
     "end_time": "2024-03-27T08:26:23.835472400Z",
     "start_time": "2024-03-27T08:26:13.464032800Z"
    }
   },
   "id": "565f7866bfa2f317"
  },
  {
   "cell_type": "code",
   "execution_count": 7,
   "outputs": [
    {
     "name": "stdout",
     "output_type": "stream",
     "text": [
      "load_matrix:\n",
      "load_matrix:\n"
     ]
    }
   ],
   "source": [
    "title_word_embedding_matrix, have_word = load_matrix(embedding_path, word_dict)\n",
    "content_word_embedding_matrix, have_word = load_matrix(embedding_path, content_dict)"
   ],
   "metadata": {
    "collapsed": false,
    "ExecuteTime": {
     "end_time": "2024-03-27T08:27:38.245891600Z",
     "start_time": "2024-03-27T08:26:23.836475300Z"
    }
   },
   "id": "1a8d8302e3246e28"
  },
  {
   "cell_type": "code",
   "execution_count": 8,
   "outputs": [
    {
     "name": "stdout",
     "output_type": "stream",
     "text": [
      "load_entity_metadata\n",
      "load_news_entity\n"
     ]
    }
   ],
   "source": [
    "graph, EntityId2Index, EntityIndex2Id, entity_embedding = load_entity_metadata(KG_root_path)\n",
    "news_entity_KG = load_news_entity(news,EntityId2Index,data_root_path)\n"
   ],
   "metadata": {
    "collapsed": false,
    "ExecuteTime": {
     "end_time": "2024-03-27T08:28:07.944253300Z",
     "start_time": "2024-03-27T08:27:38.245891600Z"
    }
   },
   "id": "875b45291100aec1"
  },
  {
   "cell_type": "code",
   "execution_count": 9,
   "outputs": [],
   "source": [
    "news_entity_index = parse_zero_hop_entity(EntityId2Index,news_entity_KG,news_index,max_entity_num)\n",
    "one_hop_entity = parse_one_hop_entity(EntityId2Index,EntityIndex2Id,news_entity_index,graph,news_index,max_entity_num)"
   ],
   "metadata": {
    "collapsed": false,
    "ExecuteTime": {
     "end_time": "2024-03-27T08:28:23.486469800Z",
     "start_time": "2024-03-27T08:28:07.947260600Z"
    }
   },
   "id": "2c464f2a3f98abf1"
  },
  {
   "cell_type": "code",
   "execution_count": 10,
   "outputs": [
    {
     "name": "stdout",
     "output_type": "stream",
     "text": [
      "read_train_clickhistory()\n",
      "get_train_input()\n"
     ]
    }
   ],
   "source": [
    "train_session = read_train_clickhistory(news_index, data_root_path, 'train/behaviors.tsv')\n",
    "train_user = parse_user(news_index, train_session)\n",
    "train_sess, train_user_id, train_label = get_train_input(news_index, train_session)"
   ],
   "metadata": {
    "collapsed": false,
    "ExecuteTime": {
     "end_time": "2024-03-27T08:28:34.912004100Z",
     "start_time": "2024-03-27T08:28:23.488472900Z"
    }
   },
   "id": "4c2ab005617678a3"
  },
  {
   "cell_type": "code",
   "execution_count": 11,
   "outputs": [],
   "source": [
    "news_fetcher = NewsFetcher(news_title, news_content, news_vert, news_subvert, news_entity)  # 传递，设为共有\n",
    "test_session = read_test_clickhistory_noclk(news_index, data_root_path, 'dev/behaviors.tsv')"
   ],
   "metadata": {
    "collapsed": false,
    "ExecuteTime": {
     "end_time": "2024-03-27T08:28:37.237690900Z",
     "start_time": "2024-03-27T08:28:34.913943900Z"
    }
   },
   "id": "fd3ab7ab63a143a8"
  },
  {
   "cell_type": "code",
   "execution_count": 12,
   "outputs": [],
   "source": [
    "test_user = parse_user(news_index, test_session)\n",
    "test_docids, test_userids, test_labels, test_bound = get_test_input(news_index, test_session)"
   ],
   "metadata": {
    "collapsed": false,
    "ExecuteTime": {
     "end_time": "2024-03-27T08:28:40.164217400Z",
     "start_time": "2024-03-27T08:28:37.237690900Z"
    }
   },
   "id": "2ea3be33eb5d5740"
  },
  {
   "cell_type": "code",
   "execution_count": 13,
   "outputs": [],
   "source": [
    "train_generator = get_hir_train_generator(news_fetcher, news_entity_index, one_hop_entity, entity_embedding,\n",
    "                                          train_user['click'], train_user_id, train_sess, train_label, 16)\n",
    "\n",
    "test_generator = get_test_generator(test_docids,test_userids,news_fetcher,news_entity_index,one_hop_entity,entity_embedding,test_user['click'],64)\n"
   ],
   "metadata": {
    "collapsed": false,
    "ExecuteTime": {
     "end_time": "2024-03-27T08:28:40.172205700Z",
     "start_time": "2024-03-27T08:28:40.166205400Z"
    }
   },
   "id": "4c5e6dd37469a6d"
  },
  {
   "cell_type": "code",
   "execution_count": 14,
   "outputs": [
    {
     "name": "stdout",
     "output_type": "stream",
     "text": [
      "create_model_new\n",
      "1\n",
      "2\n",
      "3\n",
      "4\n",
      "5\n",
      "6\n",
      "WARNING:tensorflow:From F:\\anaconda\\envs\\kimevn\\lib\\site-packages\\tensorflow\\python\\framework\\op_def_library.py:263: colocate_with (from tensorflow.python.framework.ops) is deprecated and will be removed in a future version.\n",
      "Instructions for updating:\n",
      "Colocations handled automatically by placer.\n",
      "WARNING:tensorflow:From F:\\anaconda\\envs\\kimevn\\lib\\site-packages\\keras\\backend\\tensorflow_backend.py:3445: calling dropout (from tensorflow.python.ops.nn_ops) with keep_prob is deprecated and will be removed in a future version.\n",
      "Instructions for updating:\n",
      "Please use `rate` instead of `keep_prob`. Rate should be set to `rate = 1 - keep_prob`.\n",
      "candi_news_words: Tensor(\"dropout_12/cond/Merge:0\", shape=(?, 400), dtype=float32)\n",
      "user_vecs: Tensor(\"dropout_21/cond/Merge:0\", shape=(?, 1600, 300), dtype=float32)\n",
      "user_vecs: Tensor(\"fastformer_1/Reshape_21:0\", shape=(?, 1600, 400), dtype=float32)\n",
      "user_vecs: Tensor(\"dropout_23/cond/Merge:0\", shape=(?, 1600, 400), dtype=float32)\n",
      "user_vecs: Tensor(\"reshape_20/Reshape:0\", shape=(?, 50, 32, 400), dtype=float32)\n",
      "7\n",
      "8\n",
      "9\n",
      "10\n",
      "11\n",
      "12\n",
      "13\n"
     ]
    }
   ],
   "source": [
    "model, inter_model = create_model_new(title_word_embedding_matrix, content_word_embedding_matrix, entity_dict, category_dict, subcategory_dict)"
   ],
   "metadata": {
    "collapsed": false,
    "ExecuteTime": {
     "end_time": "2024-03-27T08:29:08.541540200Z",
     "start_time": "2024-03-27T08:28:40.170206600Z"
    }
   },
   "id": "7be6a6b6425f02fb"
  },
  {
   "cell_type": "code",
   "execution_count": null,
   "outputs": [
    {
     "name": "stdout",
     "output_type": "stream",
     "text": [
      "WARNING:tensorflow:From F:\\anaconda\\envs\\kimevn\\lib\\site-packages\\tensorflow\\python\\ops\\math_ops.py:3066: to_int32 (from tensorflow.python.ops.math_ops) is deprecated and will be removed in a future version.\n",
      "Instructions for updating:\n",
      "Use tf.cast instead.\n",
      "Epoch 1/5\n"
     ]
    }
   ],
   "source": [
    "model.fit_generator(train_generator, epochs=5, verbose=1)\n",
    "\n",
    "predicted_label = inter_model.predict_generator(test_generator, verbose=1)\n",
    "\n",
    "AUC, MRR, nDCG5, nDCG10 = evaluate(predicted_label, test_labels, test_bound)"
   ],
   "metadata": {
    "collapsed": false,
    "is_executing": true,
    "ExecuteTime": {
     "start_time": "2024-03-27T08:29:08.538536700Z"
    }
   },
   "id": "9c7c4edf3bad7835"
  }
 ],
 "metadata": {
  "kernelspec": {
   "display_name": "Python 3",
   "language": "python",
   "name": "python3"
  },
  "language_info": {
   "codemirror_mode": {
    "name": "ipython",
    "version": 2
   },
   "file_extension": ".py",
   "mimetype": "text/x-python",
   "name": "python",
   "nbconvert_exporter": "python",
   "pygments_lexer": "ipython2",
   "version": "2.7.6"
  }
 },
 "nbformat": 4,
 "nbformat_minor": 5
}
