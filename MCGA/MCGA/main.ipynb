{
 "cells": [
  {
   "cell_type": "code",
   "execution_count": null,
   "id": "initial_id",
   "metadata": {
    "collapsed": true
   },
   "outputs": [],
   "source": [
    "import os\n",
    "os.environ[\"CUDA_VISIBLE_DEVICES\"] = \"0\""
   ]
  },
  {
   "cell_type": "code",
   "execution_count": null,
   "outputs": [],
   "source": [
    "\n",
    "import tensorflow as tf\n",
    "import keras.backend.tensorflow_backend as KTF\n",
    "from tensorflow import keras\n",
    "from keras.utils.np_utils import *\n",
    "from keras.preprocessing.text import Tokenizer, text_to_word_sequence\n",
    "# from keras.preprocessing.sequence import pad_sequences\n",
    "from keras.utils.np_utils import to_categorical\n",
    "\n",
    "from keras.layers import Embedding, concatenate\n",
    "from keras.layers import Dense, Input, Flatten, average,Lambda\n",
    "\n",
    "from keras.layers import *\n",
    "from keras.models import Model, load_model\n",
    "from keras.callbacks import EarlyStopping, ModelCheckpoint\n",
    "\n",
    "from keras import backend as K\n",
    "# from keras.engine.topology import Layer, InputSpec\n",
    "from keras import initializers #keras2\n",
    "from keras.utils import plot_model\n",
    "from keras.optimizers import *\n",
    "import numpy as np\n",
    "from sklearn.metrics import accuracy_score, classification_report"
   ],
   "metadata": {
    "collapsed": false
   },
   "id": "7e1a02970fc63952"
  },
  {
   "cell_type": "code",
   "execution_count": null,
   "outputs": [],
   "source": [
    "config = tf.ConfigProto()\n",
    "config.gpu_options.allow_growth= True\n",
    "gpu_options = tf.GPUOptions(allow_growth=True)\n",
    "session = tf.Session(config=tf.ConfigProto(gpu_options=gpu_options))"
   ],
   "metadata": {
    "collapsed": false
   },
   "id": "d25db72e1a2de734"
  },
  {
   "cell_type": "code",
   "execution_count": null,
   "outputs": [],
   "source": [
    "random_seed = \n",
    "np.random.seed(random_seed)  \n",
    "tf.set_random_seed(random_seed)\n",
    "KTF.set_session(session)"
   ],
   "metadata": {
    "collapsed": false
   },
   "id": "43f5b49bf3f2e667"
  },
  {
   "cell_type": "code",
   "execution_count": null,
   "outputs": [],
   "source": [
    "from Hypers import *\n",
    "from Utils import *\n",
    "from Preprocessing import *\n",
    "from Generator import *\n",
    "from models import *"
   ],
   "metadata": {
    "collapsed": false
   },
   "id": "743b47647b743b9e"
  },
  {
   "cell_type": "code",
   "execution_count": null,
   "outputs": [],
   "source": [
    "data_root_path = ''\n",
    "embedding_path = ''\n",
    "KG_root_path = ''"
   ],
   "metadata": {
    "collapsed": false
   },
   "id": "e9f32c3e3a4afa43"
  },
  {
   "cell_type": "code",
   "execution_count": null,
   "outputs": [],
   "source": [
    "news,news_index,category_dict,subcategory_dict,word_dict,content_dict,entity_dict = read_news(data_root_path)\n",
    "news_title,news_vert,news_subvert,news_entity,news_content=get_doc_input(news,news_index,category_dict,subcategory_dict,word_dict,content_dict,entity_dict)"
   ],
   "metadata": {
    "collapsed": false
   },
   "id": "ae1b139ac9a3296"
  },
  {
   "cell_type": "code",
   "execution_count": null,
   "outputs": [],
   "source": [
    "title_word_embedding_matrix, have_word = load_matrix(embedding_path, word_dict)\n",
    "content_word_embedding_matrix, have_word = load_matrix(embedding_path, content_dict)"
   ],
   "metadata": {
    "collapsed": false
   },
   "id": "f4995c67d29634f9"
  },
  {
   "cell_type": "code",
   "execution_count": null,
   "outputs": [],
   "source": [
    "graph, EntityId2Index, EntityIndex2Id, entity_embedding = load_entity_metadata(KG_root_path)\n",
    "news_entity_KG = load_news_entity(news,EntityId2Index,data_root_path)"
   ],
   "metadata": {
    "collapsed": false
   },
   "id": "30dcb6e8ac7addfe"
  },
  {
   "cell_type": "code",
   "execution_count": null,
   "outputs": [],
   "source": [
    "news_entity_index = parse_zero_hop_entity(EntityId2Index,news_entity_KG,news_index,max_entity_num)\n",
    "one_hop_entity = parse_one_hop_entity(EntityId2Index,EntityIndex2Id,news_entity_index,graph,news_index,max_entity_num)"
   ],
   "metadata": {
    "collapsed": false
   },
   "id": "8903be5315b67a25"
  },
  {
   "cell_type": "code",
   "execution_count": null,
   "outputs": [],
   "source": [
    "train_dir = ''    \n",
    "dev_dir = ''"
   ],
   "metadata": {
    "collapsed": false
   },
   "id": "b2c62ae94649e302"
  },
  {
   "cell_type": "code",
   "execution_count": null,
   "outputs": [],
   "source": [
    "train_session = read_train_clickhistory(news_index, data_root_path, train_dir)\n",
    "train_user = parse_user(news_index, train_session)\n",
    "train_sess, train_user_id, train_label = get_train_input(news_index, train_session)"
   ],
   "metadata": {
    "collapsed": false
   },
   "id": "a113afd85b621127"
  },
  {
   "cell_type": "code",
   "execution_count": null,
   "outputs": [],
   "source": [
    "news_fetcher = NewsFetcher(news_title, news_content, news_vert, news_subvert, news_entity)  \n",
    "test_session = read_test_clickhistory_noclk(news_index, data_root_path, dev_dir)"
   ],
   "metadata": {
    "collapsed": false
   },
   "id": "24af0cb7a810062"
  },
  {
   "cell_type": "code",
   "execution_count": null,
   "outputs": [],
   "source": [
    "test_user = parse_user(news_index, test_session)\n",
    "test_docids, test_userids, test_labels, test_bound = get_test_input(news_index, test_session)"
   ],
   "metadata": {
    "collapsed": false
   },
   "id": "30589542c819fb6d"
  },
  {
   "cell_type": "code",
   "execution_count": null,
   "outputs": [],
   "source": [
    "batch_size1 = \n",
    "batch_size2 = \n",
    "epoch_num = "
   ],
   "metadata": {
    "collapsed": false,
    "is_executing": true
   },
   "id": "ecc0a7f42507368a"
  },
  {
   "cell_type": "code",
   "execution_count": null,
   "outputs": [],
   "source": [
    "train_generator = get_hir_train_generator(news_fetcher, news_entity_index, one_hop_entity, entity_embedding,\n",
    "                                          train_user['click'], train_user_id, train_sess, train_label, batch_size1)\n",
    "\n",
    "test_generator = get_test_generator(test_docids,test_userids,news_fetcher,news_entity_index,one_hop_entity,entity_embedding,test_user['click'],batch_size2)"
   ],
   "metadata": {
    "collapsed": false
   },
   "id": "494f8e6734de036"
  },
  {
   "cell_type": "code",
   "execution_count": null,
   "outputs": [],
   "source": [
    "model, inter_model = create_model_new(title_word_embedding_matrix, content_word_embedding_matrix, entity_dict, category_dict, subcategory_dict)"
   ],
   "metadata": {
    "collapsed": false
   },
   "id": "f1e91dc787db1c5"
  },
  {
   "cell_type": "code",
   "execution_count": null,
   "outputs": [],
   "source": [
    "model.fit_generator(train_generator, epochs=epoch_num, verbose=1)"
   ],
   "metadata": {
    "collapsed": false
   },
   "id": "cdc7866e21ce4890"
  }
 ],
 "metadata": {
  "kernelspec": {
   "display_name": "Python 3",
   "language": "python",
   "name": "python3"
  },
  "language_info": {
   "codemirror_mode": {
    "name": "ipython",
    "version": 2
   },
   "file_extension": ".py",
   "mimetype": "text/x-python",
   "name": "python",
   "nbconvert_exporter": "python",
   "pygments_lexer": "ipython2",
   "version": "2.7.6"
  }
 },
 "nbformat": 4,
 "nbformat_minor": 5
}
